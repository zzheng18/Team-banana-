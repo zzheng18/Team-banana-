{
 "cells": [
  {
   "cell_type": "code",
   "execution_count": 1,
   "metadata": {},
   "outputs": [],
   "source": [
    "import pandas as pd\n",
    "from bs4 import BeautifulSoup\n",
    "from selenium import webdriver\n",
    "import lxml\n",
    "import lxml.html.soupparser"
   ]
  },
  {
   "cell_type": "code",
   "execution_count": 2,
   "metadata": {},
   "outputs": [],
   "source": [
    "webdriver_path = '/Users/zzh/Desktop/chromedriver'\n",
    "# path varies\n",
    "options = webdriver.ChromeOptions()\n",
    "options.add_argument('--ignore-certificate-errors') \n",
    "options.add_argument('--incognito')\n",
    "options.add_argument('--headless')\n",
    "                     \n",
    "driver = webdriver.Chrome(executable_path = webdriver_path, options = options)"
   ]
  },
  {
   "cell_type": "code",
   "execution_count": 3,
   "metadata": {},
   "outputs": [],
   "source": [
    "url = 'https://community.byte.co/t/tip-external-editing-for-near-perfect-audio-loops/39519'\n",
    "driver.get(url)\n",
    "soup = BeautifulSoup(driver.page_source,'lxml')"
   ]
  },
  {
   "cell_type": "markdown",
   "metadata": {},
   "source": [
    "# Extract title"
   ]
  },
  {
   "cell_type": "code",
   "execution_count": 4,
   "metadata": {},
   "outputs": [
    {
     "data": {
      "text/plain": [
       "<a class=\"fancy-title\" data-ember-action=\"\" data-ember-action-27=\"27\" href=\"/t/tip-external-editing-for-near-perfect-audio-loops/39519\">\n",
       "                Tip: External editing for near-perfect audio loops\n",
       "              </a>"
      ]
     },
     "execution_count": 4,
     "metadata": {},
     "output_type": "execute_result"
    }
   ],
   "source": [
    "title_class = soup.find('a',{'class':'fancy-title'})\n",
    "title_class"
   ]
  },
  {
   "cell_type": "code",
   "execution_count": 5,
   "metadata": {},
   "outputs": [
    {
     "data": {
      "text/plain": [
       "'\\n                Tip: External editing for near-perfect audio loops\\n              '"
      ]
     },
     "execution_count": 5,
     "metadata": {},
     "output_type": "execute_result"
    }
   ],
   "source": [
    "title_text = title_class.getText()\n",
    "title_text "
   ]
  },
  {
   "cell_type": "code",
   "execution_count": 6,
   "metadata": {},
   "outputs": [
    {
     "data": {
      "text/plain": [
       "'Tip: External editing for near-perfect audio loops'"
      ]
     },
     "execution_count": 6,
     "metadata": {},
     "output_type": "execute_result"
    }
   ],
   "source": [
    "title = title_text.strip()\n",
    "title"
   ]
  },
  {
   "cell_type": "markdown",
   "metadata": {},
   "source": [
    "# Extract catagory"
   ]
  },
  {
   "cell_type": "code",
   "execution_count": 7,
   "metadata": {},
   "outputs": [
    {
     "data": {
      "text/plain": [
       "<div class=\"title-wrapper\">\n",
       "<h1 data-topic-id=\"39519\">\n",
       "<div class=\"ember-view\" id=\"ember25\" style=\"display: none;\"> <span class=\"private-message-glyph-wrapper\">\n",
       "<svg class=\"fa d-icon d-icon-envelope svg-icon private-message-glyph svg-string\" xmlns=\"http://www.w3.org/2000/svg\"><use xlink:href=\"#envelope\"></use></svg>\n",
       "</span>\n",
       "</div>\n",
       "<div class=\"topic-statuses ember-view\" id=\"ember26\"><!-- --><!-- --><!-- --><!-- --><!-- --><span class=\"topic-status\" title=\"This topic is pinned for you; it will display at the top of its category\"><svg class=\"fa d-icon d-icon-thumbtack svg-icon svg-string\" xmlns=\"http://www.w3.org/2000/svg\"><use xlink:href=\"#thumbtack\"></use></svg></span><!-- --><!-- --></div>\n",
       "<a class=\"fancy-title\" data-ember-action=\"\" data-ember-action-27=\"27\" href=\"/t/tip-external-editing-for-near-perfect-audio-loops/39519\">\n",
       "                Tip: External editing for near-perfect audio loops\n",
       "              </a>\n",
       "<!-- --> </h1>\n",
       "<div class=\"topic-category ember-view\" id=\"ember28\"> <a class=\"badge-wrapper bullet\" href=\"/c/general-discussion/17\"><span class=\"badge-category-bg\" style=\"background-color: #009EFF;\"></span><span class=\"badge-category clear-badge\" data-drop-close=\"true\" title=\"Discussion about the byte app and service. Check if your topic fits in another category before posting here.\"><span class=\"category-name\">General Discussion</span></span></a>\n",
       "<div class=\"topic-header-extra\">\n",
       "<div class=\"list-tags\">\n",
       "<!-- -->\n",
       "</div>\n",
       "<!-- -->\n",
       "</div>\n",
       "<span class=\"ember-view\" id=\"ember29\"><!-- --></span>\n",
       "</div>\n",
       "</div>"
      ]
     },
     "execution_count": 7,
     "metadata": {},
     "output_type": "execute_result"
    }
   ],
   "source": [
    "cat_class = soup.find('div',{'class':'title-wrapper'})\n",
    "cat_class"
   ]
  },
  {
   "cell_type": "code",
   "execution_count": 8,
   "metadata": {},
   "outputs": [
    {
     "data": {
      "text/plain": [
       "[<span class=\"category-name\">General Discussion</span>]"
      ]
     },
     "execution_count": 8,
     "metadata": {},
     "output_type": "execute_result"
    }
   ],
   "source": [
    "cat_tag = cat_class.find('div',{'class':'topic-category ember-view'}).findAll('span',{'class':'category-name'})\n",
    "cat_tag"
   ]
  },
  {
   "cell_type": "code",
   "execution_count": 9,
   "metadata": {},
   "outputs": [
    {
     "data": {
      "text/plain": [
       "'General Discussion'"
      ]
     },
     "execution_count": 9,
     "metadata": {},
     "output_type": "execute_result"
    }
   ],
   "source": [
    "cat = cat_tag[0].getText()\n",
    "cat"
   ]
  },
  {
   "cell_type": "markdown",
   "metadata": {},
   "source": [
    "# Extract host and title"
   ]
  },
  {
   "cell_type": "code",
   "execution_count": 11,
   "metadata": {},
   "outputs": [
    {
     "data": {
      "text/plain": [
       "<div class=\"names trigger-user-card\"><span class=\"first username staff admin\"><a data-user-card=\"dom\" href=\"/u/dom\">dom</a></span><span class=\"user-title\">staff ⭐️</span></div>"
      ]
     },
     "execution_count": 11,
     "metadata": {},
     "output_type": "execute_result"
    }
   ],
   "source": [
    "host_name = soup.find('div',{'class':'post-stream'}).find('div',{'class':'names trigger-user-card'})\n",
    "host_name"
   ]
  },
  {
   "cell_type": "code",
   "execution_count": 12,
   "metadata": {},
   "outputs": [
    {
     "data": {
      "text/plain": [
       "'dom'"
      ]
     },
     "execution_count": 12,
     "metadata": {},
     "output_type": "execute_result"
    }
   ],
   "source": [
    "host = host_name.find('span',{'class':'first username staff admin'}).getText()\n",
    "host"
   ]
  },
  {
   "cell_type": "code",
   "execution_count": 13,
   "metadata": {},
   "outputs": [
    {
     "data": {
      "text/plain": [
       "'staff ⭐️'"
      ]
     },
     "execution_count": 13,
     "metadata": {},
     "output_type": "execute_result"
    }
   ],
   "source": [
    "title = host_name.find('span',{'class':'user-title'}).getText()\n",
    "title"
   ]
  },
  {
   "cell_type": "markdown",
   "metadata": {},
   "source": [
    "# Extract date"
   ]
  },
  {
   "cell_type": "code",
   "execution_count": 14,
   "metadata": {},
   "outputs": [
    {
     "data": {
      "text/plain": [
       "\"Oct '19\""
      ]
     },
     "execution_count": 14,
     "metadata": {},
     "output_type": "execute_result"
    }
   ],
   "source": [
    "host_date = soup.find('div',{'class':'post-info post-date'}).getText()\n",
    "host_date"
   ]
  },
  {
   "cell_type": "markdown",
   "metadata": {},
   "source": [
    "# Extract post"
   ]
  },
  {
   "cell_type": "code",
   "execution_count": 16,
   "metadata": {},
   "outputs": [
    {
     "data": {
      "text/plain": [
       "'For important (and mostly unavoidable) reasons that we’ll go over another time, Byte alters video files when loading them in order to prepare them for seamless looping. Vine did this as well.\\nBecause of this, you will generally experience that some of your audio is “cut off” or garbled when you import it. If you have audio that is already designed to loop perfectly, you can make the following changes to get a near perfect loop:\\nTechnique 1 for 30 FPS videos\\nAdd 3 frames (aka 0.1s) to both the beginning and end of the video.\\nTechnique 2 for 60 FPS videos\\nAdd 6 frames (aka 0.1s) to both the beginning and end of the video.\\nTechnique 3 (for complex audio, non-30/60 FPS video, or if the above doesn’t work)\\n\\nStart with your intended audio loop, and make sure it’s no longer than 7.8s\\nCopy 150ms of audio from the beginning of the loop and append it to the end\\n\\nAssuming you started with a 7.8s file, it should now be 7.95s\\nAdd 50ms of silence to the beginning of the file\\nThe file should now be 8s\\n\\nUse this audio as the basis for your video (and make sure the video track is the same length as the final audio file), and you should get a near perfect audio loop.\\nWe’ll work on making this easier and less necessary in the future.'"
      ]
     },
     "execution_count": 16,
     "metadata": {},
     "output_type": "execute_result"
    }
   ],
   "source": [
    "host_post = soup.find('div',{'class':'cooked'}).getText()\n",
    "host_post"
   ]
  },
  {
   "cell_type": "markdown",
   "metadata": {},
   "source": [
    "# Extract likes"
   ]
  },
  {
   "cell_type": "code",
   "execution_count": 18,
   "metadata": {},
   "outputs": [
    {
     "data": {
      "text/plain": [
       "'114'"
      ]
     },
     "execution_count": 18,
     "metadata": {},
     "output_type": "execute_result"
    }
   ],
   "source": [
    "host_likes = soup.find('div',{'class':'double-button'}).getText()\n",
    "host_likes"
   ]
  },
  {
   "cell_type": "code",
   "execution_count": null,
   "metadata": {},
   "outputs": [],
   "source": []
  },
  {
   "cell_type": "code",
   "execution_count": null,
   "metadata": {},
   "outputs": [],
   "source": []
  }
 ],
 "metadata": {
  "kernelspec": {
   "display_name": "Python 3",
   "language": "python",
   "name": "python3"
  },
  "language_info": {
   "codemirror_mode": {
    "name": "ipython",
    "version": 3
   },
   "file_extension": ".py",
   "mimetype": "text/x-python",
   "name": "python",
   "nbconvert_exporter": "python",
   "pygments_lexer": "ipython3",
   "version": "3.7.3"
  }
 },
 "nbformat": 4,
 "nbformat_minor": 4
}
